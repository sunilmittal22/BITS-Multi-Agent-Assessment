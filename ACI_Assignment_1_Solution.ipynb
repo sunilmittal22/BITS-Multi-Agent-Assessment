{
  "cells": [
    {
      "cell_type": "markdown",
      "metadata": {
        "id": "H9GUkMwzFyub"
      },
      "source": [
        "# Artificial and Computational Intelligence Assignment 1"
      ]
    },
    {
      "cell_type": "markdown",
      "metadata": {
        "id": "f-GjrEkrFyuc"
      },
      "source": [
        "## Problem solving by Informed Search and/or Local Search"
      ]
    },
    {
      "cell_type": "markdown",
      "metadata": {
        "id": "hPcErLCRFyuc"
      },
      "source": [
        "List only the BITS (Name) of active contributors in this assignment:\n",
        "1. Sunil Mittal\n",
        "2. Vikram\n",
        "3. Indira\n",
        "4. Kirti"
      ]
    },
    {
      "cell_type": "markdown",
      "metadata": {
        "id": "Ef7sw-14Fyuc"
      },
      "source": [
        "Things to follow\n",
        "1.\tUse appropriate data structures to represent the graph and the path using python libraries\n",
        "2.\tProvide proper documentation\n",
        "3.\tFind the path and print it"
      ]
    },
    {
      "cell_type": "markdown",
      "metadata": {
        "id": "3BbratsKFyud"
      },
      "source": [
        "Coding begins here"
      ]
    },
    {
      "cell_type": "markdown",
      "metadata": {
        "id": "Y8SauNckFyud"
      },
      "source": [
        "### 1.\tDefine the environment in the following block"
      ]
    },
    {
      "attachments": {},
      "cell_type": "markdown",
      "metadata": {
        "id": "xTAkkRECFyud"
      },
      "source": [
        "There are two agents named R1 and G1. Both are searching for a \"heart\" as shown in the\n",
        "below configuration as “H” that gives everlasting power. Both agents are trying to reach the\n",
        "heart. In this process many obstacles may be encountered to reach the heart. Help them in\n",
        "finding the best path to reach the heart from any arbitrary start positions. [Dynamically fetch\n",
        "the start position while executing the code]\n",
        "\n",
        "For the agent R1 the obstacle is the green room. If R1 enters the green room it incurs a\n",
        "penalty of +10 cost and if it uses the red room it incurs a penalty of -10 points. For the agent\n",
        "G1 the obstacle is the red room. If G1 enters the red room it incurs a penalty of +10 cost and\n",
        "if it uses the green room it incurs a penalty of -10 points. In addition to the given cost, for\n",
        "every transition an agent visits incurs a path cost of 1.\n",
        "For any arbitrary node “n” the heuristic to reach the Heart h(n) is given by the below:\n",
        "Manhattan distance + Color Penalty\n",
        "\n",
        "where, Color Penalty = +5 if the node “n” and goal node is in different colored room\n",
        "and Color Penalty = -5 if the node “n” and goal node is in same colored room\n",
        "Use the Greedy Best First Search algorithm for both the below configurations and interpret\n",
        "which agent works well in which environment. Justify your interpretation with relevant\n",
        "performance metrics.\n",
        "\n",
        "Note: The agents are not competing with each other. You need to run the simulation for both\n",
        "agents in each of the below scenarios separately & submit the results of 4 runs.\n",
        "\n",
        "<img src=\"files/AssignmentImage.png\">\n"
      ]
    },
    {
      "cell_type": "markdown",
      "metadata": {
        "id": "57ocILq2Fyud"
      },
      "source": [
        "Design the agent as PSA Agent(Problem Solving Agent) \n",
        "Clear Initial data structures to define the graph and variable declarations is expected \n",
        "IMPORTATANT: Write distinct code block as below"
      ]
    },
    {
      "cell_type": "code",
      "execution_count": null,
      "metadata": {
        "id": "2MAHnXD1Fyud"
      },
      "outputs": [],
      "source": [
        "#Code Block : Set Initial State (Must handle dynamic inputs)\n",
        "import heapq\n",
        "graph = {\n",
        "'A': ['B', 'C', 'D'],\n",
        "'B': ['A', 'E', 'F'],\n",
        "'C': ['A', 'G', 'H'],\n",
        "'D': ['A', 'I', 'J'],\n",
        "'E': ['B', 'K', 'L'],\n",
        "'F': ['B', 'M', 'N'],\n",
        "'G': ['C', 'O', 'P'],\n",
        "'H': ['C', 'Q', 'R'],\n",
        "'I': ['D', 'S', 'T'],\n",
        "'J': ['D', 'U', 'V'],\n",
        "'K': ['E', 'W', 'X'],\n",
        "'L': ['E', 'Y', 'Z'],\n",
        "'M': ['F', 'H', 'I'],\n",
        "'N': ['F', 'J', 'K'],\n",
        "'O': ['G', 'L', 'M'],\n",
        "'P': ['G', 'N', 'O'],\n",
        "'Q': ['H', 'P', 'Q'],\n",
        "'R': ['H', 'R', 'S'],\n",
        "'S': ['I', 'T', 'U'],\n",
        "'T': ['I', 'V', 'W'],\n",
        "'U': ['J', 'X', 'Y'],\n",
        "'V': ['J', 'Z', 'A'],\n",
        "'W': ['K', 'B', 'C'],\n",
        "'X': ['K', 'D', 'E'],\n",
        "'Y': ['L', 'F', 'G'],\n",
        "'Z': ['L', 'H', 'I']\n",
        "}"
      ]
    },
    {
      "cell_type": "code",
      "execution_count": null,
      "metadata": {
        "id": "3DzivjiGFyue"
      },
      "outputs": [],
      "source": [
        "#Code Block : Set the matrix for transition & cost (as relevant for the given problem)\n",
        "def heuristic(node, goal):\n",
        "    x1, y1 = node\n",
        "    x2, y2 = goal\n",
        "    manhattan = abs(x1 - x2) + abs(y1 - y2)\n",
        "    color_penalty = 5 if node[0] != goal[0] else -5\n",
        "    return manhattan + color_penalty\n",
        "\n",
        "def cost(current, neighbor, agent):\n",
        "    if agent == 'R1':\n",
        "    if neighbor[0] == 'G':\n",
        "    return 10\n",
        "    elif neighbor[0] == 'R':\n",
        "    return -10\n",
        "    elif agent == 'G1':\n",
        "    if neighbor[0] == 'R':\n",
        "    return 10\n",
        "    elif neighbor[0] == 'G':\n",
        "    return -10\n",
        "    return 1"
      ]
    },
    {
      "cell_type": "code",
      "execution_count": null,
      "metadata": {
        "id": "X0dhW7_LFyue"
      },
      "outputs": [],
      "source": [
        "#Code Block : Write function to design the Transition Model/Successor function. Ideally this would be called while search algorithms are implemented\n",
        "def a_star_search(start, goal, graph, heuristic):\n",
        "# Create a priority queue to store the unexplored nodes\n",
        "frontier = []\n",
        "# Push the start node into the priority queue with a cost of 0\n",
        "heapq.heappush(frontier, (0, start))\n",
        "# Create a dictionary to store the costs of the nodes\n",
        "costs = {start: 0}\n",
        "# Create a dictionary to store the parents of the nodes\n",
        "parents = {start: None}\n",
        "# Create a variable to store the optimal path\n",
        "path = []\n",
        "# Loop until the priority queue is empty\n",
        "while frontier:\n",
        "# Pop the node with the lowest cost from the priority queue\n",
        "current_cost, current_node = heapq.heappop(frontier)\n",
        "# If the current node is the goal node, construct the path and return it\n",
        "if current_node == goal:\n",
        "while current_node is not None:\n",
        "path.append(current_node)\n",
        "current_node = parents[current_node]\n",
        "return path[::-1]\n",
        "# Iterate through the neighbors of the current node\n",
        "for neighbor in graph[current_node]:\n",
        "# Calculate the cost of reaching the neighbor from the start node\n",
        "cost = costs[current_node] + 1\n",
        "# If the neighbor has not been explored or the new cost is lower than the previous cost, update the cost and parent of the neighbor\n",
        "if neighbor not in costs or cost < costs[neighbor]:\n",
        "costs[neighbor] = cost\n",
        "priority = cost + heuristic(neighbor, goal)\n",
        "heapq.heappush(frontier, (priority, neighbor))\n",
        "parents[neighbor] = current_node\n",
        "# If the priority queue is empty, return an empty path\n",
        "return path"
      ]
    },
    {
      "cell_type": "code",
      "execution_count": null,
      "metadata": {
        "id": "zImA1VT4Fyue"
      },
      "outputs": [],
      "source": [
        "#Code block : Write fucntion to handle goal test (Must handle dynamic inputs). Ideally this would be called while search algorithms are implemented"
      ]
    },
    {
      "cell_type": "markdown",
      "metadata": {
        "id": "Dv_aI84TFyue"
      },
      "source": [
        "### 2.\tDefinition of Algorithm 1 (Mention the Name of the algorithm here eg., INFORMED SEARCH "
      ]
    },
    {
      "cell_type": "code",
      "execution_count": null,
      "metadata": {
        "id": "SQWEw6mUFyue"
      },
      "outputs": [],
      "source": [
        "#Code Block : Function for algorithm 1 implementation"
      ]
    },
    {
      "cell_type": "markdown",
      "metadata": {
        "id": "mDrjkf6MFyuf"
      },
      "source": [
        "### 3.\tDefinition of Algorithm 2 (Mention the Name of the algorithm here eg., LOCAL SEARCH "
      ]
    },
    {
      "cell_type": "code",
      "execution_count": null,
      "metadata": {
        "id": "MUj31mstFyuf"
      },
      "outputs": [],
      "source": [
        "#Code Block : Function for algorithm 2 implementation"
      ]
    },
    {
      "cell_type": "markdown",
      "metadata": {
        "id": "Yby5rPLMFyuf"
      },
      "source": [
        "### DYNAMIC INPUT"
      ]
    },
    {
      "cell_type": "markdown",
      "metadata": {
        "id": "DCCXQ0owFyuf"
      },
      "source": [
        "IMPORTANT : Dynamic Input must be got in this section. Display the possible states to choose from:\n",
        "This is applicable for all the relevent problems as mentioned in the question. "
      ]
    },
    {
      "cell_type": "code",
      "execution_count": null,
      "metadata": {
        "id": "beAnddJKFyuf"
      },
      "outputs": [],
      "source": [
        "#Code Block : Function & call to get inputs (start/end state)"
      ]
    },
    {
      "cell_type": "markdown",
      "metadata": {
        "id": "bqVEUFRoFyuf"
      },
      "source": [
        "### 4.\tCalling the search algorithms"
      ]
    },
    {
      "cell_type": "code",
      "execution_count": null,
      "metadata": {
        "id": "y9CAb9j8Fyuf"
      },
      "outputs": [],
      "source": [
        "#Invoke algorithm 1 (Should Print the solution, path, cost etc., (As mentioned in the problem))"
      ]
    },
    {
      "cell_type": "code",
      "execution_count": null,
      "metadata": {
        "id": "0CI64HFVFyug"
      },
      "outputs": [],
      "source": [
        "#Invoke algorithm 2 (Should Print the solution, path, cost etc., (As mentioned in the problem))"
      ]
    },
    {
      "cell_type": "markdown",
      "metadata": {
        "id": "pPN1mgOSFyug"
      },
      "source": [
        "### 5.\tComparitive Analysis"
      ]
    },
    {
      "cell_type": "code",
      "execution_count": null,
      "metadata": {
        "id": "EwBYRVQHFyug"
      },
      "outputs": [],
      "source": [
        "#Code Block : Print the Time & Space complexity of algorithm 1 "
      ]
    },
    {
      "cell_type": "code",
      "execution_count": null,
      "metadata": {
        "id": "1xEwLMG3Fyug"
      },
      "outputs": [],
      "source": [
        "#Code Block : Print the Time & Space complexity of algorithm 2"
      ]
    },
    {
      "cell_type": "markdown",
      "metadata": {
        "id": "bw-wFCQRFyug"
      },
      "source": [
        "### 6.\tProvide your comparitive analysis or findings in no more than 3 lines in below section"
      ]
    },
    {
      "cell_type": "markdown",
      "metadata": {
        "id": "8XbDn1pgFyug"
      },
      "source": [
        "Comparison : _______________________________________________\n",
        "\n",
        "________________________________________________________\n",
        "\n",
        "_________________________________________________________"
      ]
    }
  ],
  "metadata": {
    "colab": {
      "provenance": []
    },
    "kernelspec": {
      "display_name": "Python 3.10.5 64-bit",
      "language": "python",
      "name": "python3"
    },
    "language_info": {
      "codemirror_mode": {
        "name": "ipython",
        "version": 3
      },
      "file_extension": ".py",
      "mimetype": "text/x-python",
      "name": "python",
      "nbconvert_exporter": "python",
      "pygments_lexer": "ipython3",
      "version": "3.10.5"
    },
    "vscode": {
      "interpreter": {
        "hash": "79c792ad3c73468cd23fa5e462a9995a55a891b4cc8b43152f30c7a140787c39"
      }
    }
  },
  "nbformat": 4,
  "nbformat_minor": 0
}

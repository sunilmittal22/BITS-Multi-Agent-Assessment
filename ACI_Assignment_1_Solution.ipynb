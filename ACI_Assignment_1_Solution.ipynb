{
  "cells": [
    {
      "cell_type": "markdown",
      "metadata": {
        "id": "H9GUkMwzFyub"
      },
      "source": [
        "# Artificial and Computational Intelligence Assignment 1"
      ]
    },
    {
      "cell_type": "markdown",
      "metadata": {
        "id": "f-GjrEkrFyuc"
      },
      "source": [
        "## Problem solving by Informed Search and/or Local Search"
      ]
    },
    {
      "cell_type": "markdown",
      "metadata": {
        "id": "hPcErLCRFyuc"
      },
      "source": [
        "List only the BITS (Name) of active contributors in this assignment:\n",
        "1. Sunil Mittal\n",
        "2. Vikram\n",
        "3. Indira\n",
        "4. Kirti"
      ]
    },
    {
      "cell_type": "markdown",
      "metadata": {
        "id": "Ef7sw-14Fyuc"
      },
      "source": [
        "Things to follow\n",
        "1.\tUse appropriate data structures to represent the graph and the path using python libraries\n",
        "2.\tProvide proper documentation\n",
        "3.\tFind the path and print it"
      ]
    },
    {
      "cell_type": "markdown",
      "metadata": {
        "id": "3BbratsKFyud"
      },
      "source": [
        "Coding begins here"
      ]
    },
    {
      "cell_type": "markdown",
      "metadata": {
        "id": "Y8SauNckFyud"
      },
      "source": [
        "### 1.\tDefine the environment in the following block"
      ]
    },
    {
      "cell_type": "markdown",
      "metadata": {
        "id": "xTAkkRECFyud"
      },
      "source": [
        "List the PEAS decription of the problem here in this markdown block"
      ]
    },
    {
      "cell_type": "markdown",
      "metadata": {
        "id": "57ocILq2Fyud"
      },
      "source": [
        "Design the agent as PSA Agent(Problem Solving Agent) \n",
        "Clear Initial data structures to define the graph and variable declarations is expected \n",
        "IMPORTATANT: Write distinct code block as below"
      ]
    },
    {
      "cell_type": "code",
      "execution_count": null,
      "metadata": {
        "id": "2MAHnXD1Fyud"
      },
      "outputs": [],
      "source": [
        "#Code Block : Set Initial State (Must handle dynamic inputs)"
      ]
    },
    {
      "cell_type": "code",
      "execution_count": null,
      "metadata": {
        "id": "3DzivjiGFyue"
      },
      "outputs": [],
      "source": [
        "#Code Block : Set the matrix for transition & cost (as relevant for the given problem)"
      ]
    },
    {
      "cell_type": "code",
      "execution_count": null,
      "metadata": {
        "id": "X0dhW7_LFyue"
      },
      "outputs": [],
      "source": [
        "#Code Block : Write function to design the Transition Model/Successor function. Ideally this would be called while search algorithms are implemented"
      ]
    },
    {
      "cell_type": "code",
      "execution_count": null,
      "metadata": {
        "id": "zImA1VT4Fyue"
      },
      "outputs": [],
      "source": [
        "#Code block : Write fucntion to handle goal test (Must handle dynamic inputs). Ideally this would be called while search algorithms are implemented"
      ]
    },
    {
      "cell_type": "markdown",
      "metadata": {
        "id": "Dv_aI84TFyue"
      },
      "source": [
        "### 2.\tDefinition of Algorithm 1 (Mention the Name of the algorithm here eg., INFORMED SEARCH "
      ]
    },
    {
      "cell_type": "code",
      "execution_count": null,
      "metadata": {
        "id": "SQWEw6mUFyue"
      },
      "outputs": [],
      "source": [
        "#Code Block : Function for algorithm 1 implementation"
      ]
    },
    {
      "cell_type": "markdown",
      "metadata": {
        "id": "mDrjkf6MFyuf"
      },
      "source": [
        "### 3.\tDefinition of Algorithm 2 (Mention the Name of the algorithm here eg., LOCAL SEARCH "
      ]
    },
    {
      "cell_type": "code",
      "execution_count": null,
      "metadata": {
        "id": "MUj31mstFyuf"
      },
      "outputs": [],
      "source": [
        "#Code Block : Function for algorithm 2 implementation"
      ]
    },
    {
      "cell_type": "markdown",
      "metadata": {
        "id": "Yby5rPLMFyuf"
      },
      "source": [
        "### DYNAMIC INPUT"
      ]
    },
    {
      "cell_type": "markdown",
      "metadata": {
        "id": "DCCXQ0owFyuf"
      },
      "source": [
        "IMPORTANT : Dynamic Input must be got in this section. Display the possible states to choose from:\n",
        "This is applicable for all the relevent problems as mentioned in the question. "
      ]
    },
    {
      "cell_type": "code",
      "execution_count": null,
      "metadata": {
        "id": "beAnddJKFyuf"
      },
      "outputs": [],
      "source": [
        "#Code Block : Function & call to get inputs (start/end state)"
      ]
    },
    {
      "cell_type": "markdown",
      "metadata": {
        "id": "bqVEUFRoFyuf"
      },
      "source": [
        "### 4.\tCalling the search algorithms"
      ]
    },
    {
      "cell_type": "code",
      "execution_count": null,
      "metadata": {
        "id": "y9CAb9j8Fyuf"
      },
      "outputs": [],
      "source": [
        "#Invoke algorithm 1 (Should Print the solution, path, cost etc., (As mentioned in the problem))"
      ]
    },
    {
      "cell_type": "code",
      "execution_count": null,
      "metadata": {
        "id": "0CI64HFVFyug"
      },
      "outputs": [],
      "source": [
        "#Invoke algorithm 2 (Should Print the solution, path, cost etc., (As mentioned in the problem))"
      ]
    },
    {
      "cell_type": "markdown",
      "metadata": {
        "id": "pPN1mgOSFyug"
      },
      "source": [
        "### 5.\tComparitive Analysis"
      ]
    },
    {
      "cell_type": "code",
      "execution_count": null,
      "metadata": {
        "id": "EwBYRVQHFyug"
      },
      "outputs": [],
      "source": [
        "#Code Block : Print the Time & Space complexity of algorithm 1 "
      ]
    },
    {
      "cell_type": "code",
      "execution_count": null,
      "metadata": {
        "id": "1xEwLMG3Fyug"
      },
      "outputs": [],
      "source": [
        "#Code Block : Print the Time & Space complexity of algorithm 2"
      ]
    },
    {
      "cell_type": "markdown",
      "metadata": {
        "id": "bw-wFCQRFyug"
      },
      "source": [
        "### 6.\tProvide your comparitive analysis or findings in no more than 3 lines in below section"
      ]
    },
    {
      "cell_type": "markdown",
      "metadata": {
        "id": "8XbDn1pgFyug"
      },
      "source": [
        "Comparison : _______________________________________________\n",
        "\n",
        "________________________________________________________\n",
        "\n",
        "_________________________________________________________"
      ]
    }
  ],
  "metadata": {
    "colab": {
      "provenance": []
    },
    "kernelspec": {
      "display_name": "Python 3.10.5 64-bit",
      "language": "python",
      "name": "python3"
    },
    "language_info": {
      "codemirror_mode": {
        "name": "ipython",
        "version": 3
      },
      "file_extension": ".py",
      "mimetype": "text/x-python",
      "name": "python",
      "nbconvert_exporter": "python",
      "pygments_lexer": "ipython3",
      "version": "3.10.5"
    },
    "vscode": {
      "interpreter": {
        "hash": "79c792ad3c73468cd23fa5e462a9995a55a891b4cc8b43152f30c7a140787c39"
      }
    }
  },
  "nbformat": 4,
  "nbformat_minor": 0
}

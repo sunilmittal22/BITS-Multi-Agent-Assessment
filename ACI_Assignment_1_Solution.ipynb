{
  "cells": [
    {
      "cell_type": "markdown",
      "metadata": {
        "id": "H9GUkMwzFyub"
      },
      "source": [
        "# Artificial and Computational Intelligence Assignment 1"
      ]
    },
    {
      "cell_type": "markdown",
      "metadata": {
        "id": "f-GjrEkrFyuc"
      },
      "source": [
        "## Problem solving by Informed Search and/or Local Search"
      ]
    },
    {
      "cell_type": "markdown",
      "metadata": {
        "id": "hPcErLCRFyuc"
      },
      "source": [
        "List only the BITS (Name) of active contributors in this assignment:\n",
        "1. Sunil Mittal\n",
        "2. Vikram\n",
        "3. Indira\n",
        "4. Kirti"
      ]
    },
    {
      "cell_type": "markdown",
      "metadata": {
        "id": "Ef7sw-14Fyuc"
      },
      "source": [
        "Things to follow\n",
        "1.\tUse appropriate data structures to represent the graph and the path using python libraries\n",
        "2.\tProvide proper documentation\n",
        "3.\tFind the path and print it"
      ]
    },
    {
      "cell_type": "markdown",
      "metadata": {
        "id": "3BbratsKFyud"
      },
      "source": [
        "Coding begins here"
      ]
    },
    {
      "cell_type": "markdown",
      "metadata": {
        "id": "Y8SauNckFyud"
      },
      "source": [
        "### 1.\tDefine the environment in the following block"
      ]
    },
    {
      "attachments": {},
      "cell_type": "markdown",
      "metadata": {
        "id": "xTAkkRECFyud"
      },
      "source": [
        "There are two agents named R1 and G1. Both are searching for a \"heart\" as shown in the\n",
        "below configuration as “H” that gives everlasting power. Both agents are trying to reach the\n",
        "heart. In this process many obstacles may be encountered to reach the heart. Help them in\n",
        "finding the best path to reach the heart from any arbitrary start positions. [Dynamically fetch\n",
        "the start position while executing the code]\n",
        "\n",
        "For the agent R1 the obstacle is the green room. If R1 enters the green room it incurs a\n",
        "penalty of +10 cost and if it uses the red room it incurs a penalty of -10 points. For the agent\n",
        "G1 the obstacle is the red room. If G1 enters the red room it incurs a penalty of +10 cost and\n",
        "if it uses the green room it incurs a penalty of -10 points. In addition to the given cost, for\n",
        "every transition an agent visits incurs a path cost of 1.\n",
        "For any arbitrary node “n” the heuristic to reach the Heart h(n) is given by the below:\n",
        "Manhattan distance + Color Penalty\n",
        "\n",
        "where, Color Penalty = +5 if the node “n” and goal node is in different colored room\n",
        "and Color Penalty = -5 if the node “n” and goal node is in same colored room\n",
        "Use the Greedy Best First Search algorithm for both the below configurations and interpret\n",
        "which agent works well in which environment. Justify your interpretation with relevant\n",
        "performance metrics.\n",
        "\n",
        "Note: The agents are not competing with each other. You need to run the simulation for both\n",
        "agents in each of the below scenarios separately & submit the results of 4 runs.\n",
        "\n",
        "<img src=\"files/AssignmentImage.png\">\n"
      ]
    },
    {
      "cell_type": "markdown",
      "metadata": {
        "id": "57ocILq2Fyud"
      },
      "source": [
        "Design the agent as PSA Agent(Problem Solving Agent) \n",
        "Clear Initial data structures to define the graph and variable declarations is expected \n",
        "IMPORTATANT: Write distinct code block as below"
      ]
    },
    {
      "attachments": {},
      "cell_type": "markdown",
      "metadata": {},
      "source": [
        "The PEAS (Performance measure, Environment, Actuator, Sensor) model is a framework used to describe the characteristics of an agent in a given environment. It consists of four elements:\n",
        "Performance measure: This refers to the metric or metrics used to evaluate the agent's performance. In the case of the agents R1 and G1 searching for the \"heart\", the performance measure could be the length of the path taken to reach the heart or the total cost of the path.\n",
        "Environment: This refers to the environment in which the agent operates, including the physical layout of the environment and any constraints or limitations. In the case of the agents R1 and G1, the environment consists of rooms with different colors, and the agents incur different penalties for entering certain rooms.\n",
        "Actuator: This refers to the mechanism by which the agent is able to take actions in the environment. In the case of the agents R1 and G1, the actuator could be the ability to move from one room to another.\n",
        "Sensor: This refers to the mechanism by which the agent is able to perceive and gather information about the environment. In the case of the agents R1 and G1, the sensor could be the ability to detect the colors of the rooms and the presence of the heart.\n",
        "Overall, the PEAS model provides a useful framework for understanding the characteristics and capabilities of an agent in a given environment, and can be used to design and evaluate the performance of the agent."
      ]
    },
    {
      "cell_type": "code",
      "execution_count": 8,
      "metadata": {
        "id": "2MAHnXD1Fyud"
      },
      "outputs": [],
      "source": [
        "#Code Block : Set Initial State (Must handle dynamic inputs)\n",
        "import heapq"
      ]
    },
    {
      "attachments": {},
      "cell_type": "markdown",
      "metadata": {},
      "source": [
        "Define the graph data structure to represent the environment. This can be done using a dictionary where the keys are the node names and the values are the neighboring nodes. For example:"
      ]
    },
    {
      "cell_type": "code",
      "execution_count": 9,
      "metadata": {
        "id": "3DzivjiGFyue"
      },
      "outputs": [],
      "source": [
        "#Code Block : Set the matrix for transition & cost (as relevant for the given problem)\n",
        "graph = {\n",
        "'A': ['B', 'C', 'D'],\n",
        "'B': ['A', 'E', 'F'],\n",
        "'C': ['A', 'G', 'H'],\n",
        "'D': ['A', 'I', 'J'],\n",
        "'E': ['B', 'K', 'L'],\n",
        "'F': ['B', 'M', 'N'],\n",
        "'G': ['C', 'O', 'P'],\n",
        "'H': ['C', 'Q', 'R'],\n",
        "'I': ['D', 'S', 'T'],\n",
        "'J': ['D', 'U', 'V'],\n",
        "'K': ['E', 'W', 'X'],\n",
        "'L': ['E', 'Y', 'Z'],\n",
        "'M': ['F', 'H', 'I'],\n",
        "'N': ['F', 'J', 'K'],\n",
        "'O': ['G', 'L', 'M'],\n",
        "'P': ['G', 'N', 'O'],\n",
        "'Q': ['H', 'P', 'Q'],\n",
        "'R': ['H', 'R', 'S'],\n",
        "'S': ['I', 'T', 'U'],\n",
        "'T': ['I', 'V', 'W'],\n",
        "'U': ['J', 'X', 'Y'],\n",
        "'V': ['J', 'Z', 'A'],\n",
        "'W': ['K', 'B', 'C'],\n",
        "'X': ['K', 'D', 'E'],\n",
        "'Y': ['L', 'F', 'G'],\n",
        "'Z': ['L', 'H', 'I']\n",
        "}"
      ]
    },
    {
      "attachments": {},
      "cell_type": "markdown",
      "metadata": {},
      "source": [
        "Define the heuristic function. This function should take in the current node and the goal node, and return the Manhattan distance between the two nodes, plus the color penalty"
      ]
    },
    {
      "cell_type": "code",
      "execution_count": 10,
      "metadata": {
        "id": "X0dhW7_LFyue"
      },
      "outputs": [],
      "source": [
        "#Code Block : Write function to design the Transition Model/Successor function. Ideally this would be called while search algorithms are implemented\n",
        "def heuristic(node, goal):\n",
        "    x1, y1 = node\n",
        "    x2, y2 = goal\n",
        "    manhattan = abs(x1 - x2) + abs(y1 - y2)\n",
        "    color_penalty = 5 if node[0] != goal[0] else -5\n",
        "    return manhattan + color_penalty"
      ]
    },
    {
      "attachments": {},
      "cell_type": "markdown",
      "metadata": {},
      "source": [
        "Define the cost function. This function should take in the current node, the neighboring node, and the agent (R1 or G1), and return the cost of transitioning from the current node to the neighboring node."
      ]
    },
    {
      "cell_type": "code",
      "execution_count": 11,
      "metadata": {
        "id": "zImA1VT4Fyue"
      },
      "outputs": [],
      "source": [
        "#Code block : Write fucntion to handle goal test (Must handle dynamic inputs). Ideally this would be called while search algorithms are implemented\n",
        "def cost(current, neighbor, agent):\n",
        "    if agent == 'R1':\n",
        "        if neighbor[0] == 'G':\n",
        "            return 10\n",
        "        elif neighbor[0] == 'R':\n",
        "            return -10\n",
        "    elif agent == 'G1':\n",
        "        if neighbor[0] == 'R':\n",
        "            return 10\n",
        "        elif neighbor[0] == 'G':\n",
        "            return -10\n",
        "    return 1"
      ]
    },
    {
      "cell_type": "markdown",
      "metadata": {
        "id": "Dv_aI84TFyue"
      },
      "source": [
        "### 2.\tDefinition of Algorithm 1 (Mention the Name of the algorithm here eg., INFORMED SEARCH "
      ]
    },
    {
      "cell_type": "code",
      "execution_count": 14,
      "metadata": {
        "id": "SQWEw6mUFyue"
      },
      "outputs": [],
      "source": [
        "def a_star_search(start, goal, graph, heuristic):\n",
        "    # Create a priority queue to store the unexplored nodes\n",
        "    frontier = []\n",
        "    # Push the start node into the priority queue with a cost of 0\n",
        "    heapq.heappush(frontier, (0, start))\n",
        "    # Create a dictionary to store the costs of the nodes\n",
        "    costs = {start: 0}\n",
        "    # Create a dictionary to store the parents of the nodes\n",
        "    parents = {start: None}\n",
        "    # Create a variable to store the optimal path\n",
        "    path = []\n",
        "    # Loop until the priority queue is empty\n",
        "    while frontier:\n",
        "        # Pop the node with the lowest cost from the priority queue\n",
        "        current_cost, current_node = heapq.heappop(frontier)\n",
        "        # If the current node is the goal node, construct the path and return it\n",
        "        if current_node == goal:\n",
        "            while current_node is not None:\n",
        "                path.append(current_node)\n",
        "                current_node = parents[current_node]\n",
        "                return path[::-1]\n",
        "        # Iterate through the neighbors of the current node\n",
        "        for neighbor in graph[current_node]:\n",
        "            # Calculate the cost of reaching the neighbor from the start node\n",
        "            cost = costs[current_node] + 1\n",
        "            #If the neighbor has not been explored or the new cost is lower than the previous cost, update the cost and parent of the neighbor\n",
        "            if neighbor not in costs or cost < costs[neighbor]:\n",
        "                costs[neighbor] = cost\n",
        "            priority = cost + heuristic(neighbor, goal)\n",
        "            heapq.heappush(frontier, (priority, neighbor))\n",
        "            parents[neighbor] = current_node\n",
        "    # If the priority queue is empty, return an empty path\n",
        "    return path"
      ]
    },
    {
      "cell_type": "markdown",
      "metadata": {
        "id": "mDrjkf6MFyuf"
      },
      "source": [
        "### 3.\tDefinition of Algorithm 2 (Mention the Name of the algorithm here eg., LOCAL SEARCH "
      ]
    },
    {
      "attachments": {},
      "cell_type": "markdown",
      "metadata": {},
      "source": [
        "To use the A* search function,  need to provide the following arguments:\n",
        "start: the start node of the search\n",
        "goal: the goal node of the search\n",
        "graph: a dictionary that represents the graph. The keys are the nodes and the values are lists of the neighbors of each node.\n",
        "heuristic: a function that calculates the heuristic cost from a node to the goal node"
      ]
    },
    {
      "cell_type": "code",
      "execution_count": 15,
      "metadata": {
        "id": "MUj31mstFyuf"
      },
      "outputs": [
        {
          "ename": "TypeError",
          "evalue": "unsupported operand type(s) for -: 'str' and 'str'",
          "output_type": "error",
          "traceback": [
            "\u001b[1;31m---------------------------------------------------------------------------\u001b[0m",
            "\u001b[1;31mTypeError\u001b[0m                                 Traceback (most recent call last)",
            "Cell \u001b[1;32mIn [15], line 30\u001b[0m\n\u001b[0;32m     27\u001b[0m     \u001b[39mreturn\u001b[39;00m manhattan_distance \u001b[39m+\u001b[39m color_penalty\n\u001b[0;32m     29\u001b[0m \u001b[39m# Run the A* search\u001b[39;00m\n\u001b[1;32m---> 30\u001b[0m path \u001b[39m=\u001b[39m a_star_search(start, goal, graph, heuristic)\n\u001b[0;32m     32\u001b[0m \u001b[39m# Print the optimal path\u001b[39;00m\n\u001b[0;32m     33\u001b[0m \u001b[39mprint\u001b[39m(\u001b[39mf\u001b[39m\u001b[39m\"\u001b[39m\u001b[39mOptimal path: \u001b[39m\u001b[39m{\u001b[39;00mpath\u001b[39m}\u001b[39;00m\u001b[39m\"\u001b[39m)\n",
            "Cell \u001b[1;32mIn [14], line 29\u001b[0m, in \u001b[0;36ma_star_search\u001b[1;34m(start, goal, graph, heuristic)\u001b[0m\n\u001b[0;32m     27\u001b[0m \u001b[39mif\u001b[39;00m neighbor \u001b[39mnot\u001b[39;00m \u001b[39min\u001b[39;00m costs \u001b[39mor\u001b[39;00m cost \u001b[39m<\u001b[39m costs[neighbor]:\n\u001b[0;32m     28\u001b[0m     costs[neighbor] \u001b[39m=\u001b[39m cost\n\u001b[1;32m---> 29\u001b[0m priority \u001b[39m=\u001b[39m cost \u001b[39m+\u001b[39m heuristic(neighbor, goal)\n\u001b[0;32m     30\u001b[0m heapq\u001b[39m.\u001b[39mheappush(frontier, (priority, neighbor))\n\u001b[0;32m     31\u001b[0m parents[neighbor] \u001b[39m=\u001b[39m current_node\n",
            "Cell \u001b[1;32mIn [15], line 20\u001b[0m, in \u001b[0;36mheuristic\u001b[1;34m(node, goal)\u001b[0m\n\u001b[0;32m     18\u001b[0m \u001b[39mdef\u001b[39;00m \u001b[39mheuristic\u001b[39m(node, goal):\n\u001b[0;32m     19\u001b[0m     \u001b[39m# Calculate the Manhattan distance between the node and the goal\u001b[39;00m\n\u001b[1;32m---> 20\u001b[0m     manhattan_distance \u001b[39m=\u001b[39m \u001b[39mabs\u001b[39m(node[\u001b[39m0\u001b[39;49m] \u001b[39m-\u001b[39;49m goal[\u001b[39m0\u001b[39;49m]) \u001b[39m+\u001b[39m \u001b[39mabs\u001b[39m(node[\u001b[39m1\u001b[39m] \u001b[39m-\u001b[39m goal[\u001b[39m1\u001b[39m])\n\u001b[0;32m     21\u001b[0m     \u001b[39m# Add the color penalty\u001b[39;00m\n\u001b[0;32m     22\u001b[0m     \u001b[39mif\u001b[39;00m node[\u001b[39m2\u001b[39m] \u001b[39m!=\u001b[39m goal[\u001b[39m2\u001b[39m]:\n",
            "\u001b[1;31mTypeError\u001b[0m: unsupported operand type(s) for -: 'str' and 'str'"
          ]
        }
      ],
      "source": [
        "# Define the start and goal nodes\n",
        "start = 'A'\n",
        "goal = 'H'\n",
        "\n",
        "# Define the graph as a dictionary\n",
        "graph = {\n",
        "    'A': ['B', 'C'],\n",
        "    'B': ['A', 'D', 'E'],\n",
        "    'C': ['A', 'F'],\n",
        "    'D': ['B', 'G'],\n",
        "    'E': ['B', 'G'],\n",
        "    'F': ['C', 'G'],\n",
        "    'G': ['D', 'E', 'F', 'H'],\n",
        "    'H': ['G']\n",
        "}\n",
        "\n",
        "# Define the heuristic function\n",
        "def heuristic(node, goal):\n",
        "    # Calculate the Manhattan distance between the node and the goal\n",
        "    manhattan_distance = abs(node[0] - goal[0]) + abs(node[1] - goal[1])\n",
        "    # Add the color penalty\n",
        "    if node[2] != goal[2]:\n",
        "        color_penalty = 5\n",
        "    else:\n",
        "        color_penalty = -5\n",
        "    # Return the total heuristic cost\n",
        "    return manhattan_distance + color_penalty\n",
        "\n",
        "# Run the A* search\n",
        "path = a_star_search(start, goal, graph, heuristic)\n",
        "\n",
        "# Print the optimal path\n",
        "print(f\"Optimal path: {path}\")\n"
      ]
    },
    {
      "cell_type": "markdown",
      "metadata": {
        "id": "Yby5rPLMFyuf"
      },
      "source": [
        "### DYNAMIC INPUT"
      ]
    },
    {
      "cell_type": "markdown",
      "metadata": {
        "id": "DCCXQ0owFyuf"
      },
      "source": [
        "IMPORTANT : Dynamic Input must be got in this section. Display the possible states to choose from:\n",
        "This is applicable for all the relevent problems as mentioned in the question. "
      ]
    },
    {
      "cell_type": "code",
      "execution_count": null,
      "metadata": {
        "id": "beAnddJKFyuf"
      },
      "outputs": [],
      "source": [
        "#Code Block : Function & call to get inputs (start/end state)"
      ]
    },
    {
      "cell_type": "markdown",
      "metadata": {
        "id": "bqVEUFRoFyuf"
      },
      "source": [
        "### 4.\tCalling the search algorithms"
      ]
    },
    {
      "cell_type": "code",
      "execution_count": 7,
      "metadata": {
        "id": "y9CAb9j8Fyuf"
      },
      "outputs": [
        {
          "ename": "ValueError",
          "evalue": "not enough values to unpack (expected 2, got 1)",
          "output_type": "error",
          "traceback": [
            "\u001b[1;31m---------------------------------------------------------------------------\u001b[0m",
            "\u001b[1;31mValueError\u001b[0m                                Traceback (most recent call last)",
            "Cell \u001b[1;32mIn [7], line 6\u001b[0m\n\u001b[0;32m      3\u001b[0m goal \u001b[39m=\u001b[39m \u001b[39m'\u001b[39m\u001b[39mH\u001b[39m\u001b[39m'\u001b[39m\n\u001b[0;32m      5\u001b[0m \u001b[39m# Run the A* search\u001b[39;00m\n\u001b[1;32m----> 6\u001b[0m path \u001b[39m=\u001b[39m a_star_search(start, goal, graph, heuristic)\n\u001b[0;32m      8\u001b[0m \u001b[39m# Print the optimal path\u001b[39;00m\n\u001b[0;32m      9\u001b[0m \u001b[39mprint\u001b[39m(\u001b[39mf\u001b[39m\u001b[39m\"\u001b[39m\u001b[39mOptimal path: \u001b[39m\u001b[39m{\u001b[39;00mpath\u001b[39m}\u001b[39;00m\u001b[39m\"\u001b[39m)\n",
            "Cell \u001b[1;32mIn [6], line 30\u001b[0m, in \u001b[0;36ma_star_search\u001b[1;34m(start, goal, graph, heuristic)\u001b[0m\n\u001b[0;32m     28\u001b[0m \u001b[39mif\u001b[39;00m neighbor \u001b[39mnot\u001b[39;00m \u001b[39min\u001b[39;00m costs \u001b[39mor\u001b[39;00m cost \u001b[39m<\u001b[39m costs[neighbor]:\n\u001b[0;32m     29\u001b[0m     costs[neighbor] \u001b[39m=\u001b[39m cost\n\u001b[1;32m---> 30\u001b[0m     priority \u001b[39m=\u001b[39m cost \u001b[39m+\u001b[39m heuristic(neighbor, goal)\n\u001b[0;32m     31\u001b[0m     heapq\u001b[39m.\u001b[39mheappush(frontier, (priority, neighbor))\n\u001b[0;32m     32\u001b[0m     parents[neighbor] \u001b[39m=\u001b[39m current_node\n",
            "Cell \u001b[1;32mIn [4], line 3\u001b[0m, in \u001b[0;36mheuristic\u001b[1;34m(node, goal)\u001b[0m\n\u001b[0;32m      2\u001b[0m \u001b[39mdef\u001b[39;00m \u001b[39mheuristic\u001b[39m(node, goal):\n\u001b[1;32m----> 3\u001b[0m     x1, y1 \u001b[39m=\u001b[39m node\n\u001b[0;32m      4\u001b[0m     x2, y2 \u001b[39m=\u001b[39m goal\n\u001b[0;32m      5\u001b[0m     manhattan \u001b[39m=\u001b[39m \u001b[39mabs\u001b[39m(x1 \u001b[39m-\u001b[39m x2) \u001b[39m+\u001b[39m \u001b[39mabs\u001b[39m(y1 \u001b[39m-\u001b[39m y2)\n",
            "\u001b[1;31mValueError\u001b[0m: not enough values to unpack (expected 2, got 1)"
          ]
        }
      ],
      "source": [
        "#Invoke algorithm 1 (Should Print the solution, path, cost etc., (As mentioned in the problem))\n",
        "start = 'A'\n",
        "goal = 'H'\n",
        "\n",
        "# Run the A* search\n",
        "path = a_star_search(start, goal, graph, heuristic)\n",
        "\n",
        "# Print the optimal path\n",
        "print(f\"Optimal path: {path}\")"
      ]
    },
    {
      "cell_type": "code",
      "execution_count": null,
      "metadata": {
        "id": "0CI64HFVFyug"
      },
      "outputs": [],
      "source": [
        "#Invoke algorithm 2 (Should Print the solution, path, cost etc., (As mentioned in the problem))"
      ]
    },
    {
      "cell_type": "markdown",
      "metadata": {
        "id": "pPN1mgOSFyug"
      },
      "source": [
        "### 5.\tComparitive Analysis"
      ]
    },
    {
      "cell_type": "code",
      "execution_count": null,
      "metadata": {
        "id": "EwBYRVQHFyug"
      },
      "outputs": [],
      "source": [
        "#Code Block : Print the Time & Space complexity of algorithm 1 "
      ]
    },
    {
      "cell_type": "code",
      "execution_count": null,
      "metadata": {
        "id": "1xEwLMG3Fyug"
      },
      "outputs": [],
      "source": [
        "#Code Block : Print the Time & Space complexity of algorithm 2"
      ]
    },
    {
      "cell_type": "markdown",
      "metadata": {
        "id": "bw-wFCQRFyug"
      },
      "source": [
        "### 6.\tProvide your comparitive analysis or findings in no more than 3 lines in below section"
      ]
    },
    {
      "cell_type": "markdown",
      "metadata": {
        "id": "8XbDn1pgFyug"
      },
      "source": [
        "Comparison : _______________________________________________\n",
        "\n",
        "________________________________________________________\n",
        "\n",
        "_________________________________________________________"
      ]
    }
  ],
  "metadata": {
    "colab": {
      "provenance": []
    },
    "kernelspec": {
      "display_name": "Python 3.10.5 64-bit",
      "language": "python",
      "name": "python3"
    },
    "language_info": {
      "codemirror_mode": {
        "name": "ipython",
        "version": 3
      },
      "file_extension": ".py",
      "mimetype": "text/x-python",
      "name": "python",
      "nbconvert_exporter": "python",
      "pygments_lexer": "ipython3",
      "version": "3.10.5"
    },
    "vscode": {
      "interpreter": {
        "hash": "79c792ad3c73468cd23fa5e462a9995a55a891b4cc8b43152f30c7a140787c39"
      }
    }
  },
  "nbformat": 4,
  "nbformat_minor": 0
}

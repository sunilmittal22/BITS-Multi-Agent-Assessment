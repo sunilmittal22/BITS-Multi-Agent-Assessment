{
  "cells": [
    {
      "cell_type": "markdown",
      "metadata": {
        "id": "H9GUkMwzFyub"
      },
      "source": [
        "# Artificial and Computational Intelligence Assignment 1"
      ]
    },
    {
      "cell_type": "markdown",
      "metadata": {
        "id": "f-GjrEkrFyuc"
      },
      "source": [
        "## Problem solving by Informed Search and/or Local Search"
      ]
    },
    {
      "cell_type": "markdown",
      "metadata": {
        "id": "hPcErLCRFyuc"
      },
      "source": [
        "List only the BITS (Name) of active contributors in this assignment:\n",
        "1. Sunil Mittal\n",
        "2. Vikram\n",
        "3. Indira\n",
        "4. Kirti"
      ]
    },
    {
      "cell_type": "markdown",
      "metadata": {
        "id": "Ef7sw-14Fyuc"
      },
      "source": [
        "Things to follow\n",
        "1.\tUse appropriate data structures to represent the graph and the path using python libraries\n",
        "2.\tProvide proper documentation\n",
        "3.\tFind the path and print it"
      ]
    },
    {
      "cell_type": "markdown",
      "metadata": {
        "id": "3BbratsKFyud"
      },
      "source": [
        "Coding begins here"
      ]
    },
    {
      "cell_type": "markdown",
      "metadata": {
        "id": "Y8SauNckFyud"
      },
      "source": [
        "### 1.\tDefine the environment in the following block"
      ]
    },
    {
      "attachments": {},
      "cell_type": "markdown",
      "metadata": {
        "id": "xTAkkRECFyud"
      },
      "source": [
        "There are two agents named R1 and G1. Both are searching for a \"heart\" as shown in the\n",
        "below configuration as “H” that gives everlasting power. Both agents are trying to reach the\n",
        "heart. In this process many obstacles may be encountered to reach the heart. Help them in\n",
        "finding the best path to reach the heart from any arbitrary start positions. [Dynamically fetch\n",
        "the start position while executing the code]\n",
        "\n",
        "For the agent R1 the obstacle is the green room. If R1 enters the green room it incurs a\n",
        "penalty of +10 cost and if it uses the red room it incurs a penalty of -10 points. For the agent\n",
        "G1 the obstacle is the red room. If G1 enters the red room it incurs a penalty of +10 cost and\n",
        "if it uses the green room it incurs a penalty of -10 points. In addition to the given cost, for\n",
        "every transition an agent visits incurs a path cost of 1.\n",
        "For any arbitrary node “n” the heuristic to reach the Heart h(n) is given by the below:\n",
        "Manhattan distance + Color Penalty\n",
        "\n",
        "where, Color Penalty = +5 if the node “n” and goal node is in different colored room\n",
        "and Color Penalty = -5 if the node “n” and goal node is in same colored room\n",
        "Use the Greedy Best First Search algorithm for both the below configurations and interpret\n",
        "which agent works well in which environment. Justify your interpretation with relevant\n",
        "performance metrics.\n",
        "\n",
        "Note: The agents are not competing with each other. You need to run the simulation for both\n",
        "agents in each of the below scenarios separately & submit the results of 4 runs.\n",
        "\n",
        "<img src=\"files/AssignmentImage.png\">\n"
      ]
    },
    {
      "cell_type": "markdown",
      "metadata": {
        "id": "57ocILq2Fyud"
      },
      "source": [
        "Design the agent as PSA Agent(Problem Solving Agent) \n",
        "Clear Initial data structures to define the graph and variable declarations is expected \n",
        "IMPORTATANT: Write distinct code block as below"
      ]
    },
    {
      "attachments": {},
      "cell_type": "markdown",
      "metadata": {},
      "source": [
        "The PEAS (Performance measure, Environment, Actuator, Sensor) model is a framework used to describe the characteristics of an agent in a given environment. It consists of four elements:\n",
        "Performance measure: This refers to the metric or metrics used to evaluate the agent's performance. In the case of the agents R1 and G1 searching for the \"heart\", the performance measure could be the length of the path taken to reach the heart or the total cost of the path.\n",
        "Environment: This refers to the environment in which the agent operates, including the physical layout of the environment and any constraints or limitations. In the case of the agents R1 and G1, the environment consists of rooms with different colors, and the agents incur different penalties for entering certain rooms.\n",
        "Actuator: This refers to the mechanism by which the agent is able to take actions in the environment. In the case of the agents R1 and G1, the actuator could be the ability to move from one room to another.\n",
        "Sensor: This refers to the mechanism by which the agent is able to perceive and gather information about the environment. In the case of the agents R1 and G1, the sensor could be the ability to detect the colors of the rooms and the presence of the heart.\n",
        "Overall, the PEAS model provides a useful framework for understanding the characteristics and capabilities of an agent in a given environment, and can be used to design and evaluate the performance of the agent."
      ]
    },
    {
      "cell_type": "code",
      "execution_count": 1,
      "metadata": {
        "id": "2MAHnXD1Fyud"
      },
      "outputs": [],
      "source": [
        "#Code Block : Set Initial State (Must handle dynamic inputs)\n",
        "import heapq\n",
        "import math"
      ]
    },
    {
      "attachments": {},
      "cell_type": "markdown",
      "metadata": {},
      "source": [
        "Define the graph data structure to represent the environment. This can be done using a dictionary where the keys are the node names and the values are the neighboring nodes. For example:"
      ]
    },
    {
      "cell_type": "code",
      "execution_count": 29,
      "metadata": {
        "id": "3DzivjiGFyue"
      },
      "outputs": [],
      "source": [
        "#Scenario 1\n",
        "# Define the matrix\n",
        "matrix1 = [\n",
        "    [\"R\", \"G\", \"G\", \"G\", \"R\", \"G\"],\n",
        "    [\"G\", \"G\", \"G\", \"R\", \"G\", \"G\"],\n",
        "    [\"G\", \"G\", \"R\", \"R\", \"G\", \"G\"],\n",
        "    [\"G\", \"R\", \"G\", \"G\", \"G\", \"R\"],\n",
        "    [\"R\", \"G\", \"G\", \"G\", \"R\", \"G\"],\n",
        "    [\"G\", \"G\", \"G\", \"R\", \"G\", \"G\"],\n",
        "]\n",
        "# Define the start and goal positions\n",
        "start_position = (1, 2)\n",
        "end_position = (2, 3)\n",
        "total_iterations=0\n",
        "total_space=0\n",
        "# Define the movement directions and costs\n",
        "directions = [(1, 0), (-1, 0), (0, 1), (0, -1)]\n",
        "costs = [1, 1, 1, 1]"
      ]
    },
    {
      "cell_type": "code",
      "execution_count": 30,
      "metadata": {},
      "outputs": [],
      "source": [
        "#Scenario 2\n",
        "# Define the matrix\n",
        "matrix2 = [\n",
        "    [\"R\", \"G\", \"R\", \"G\", \"R\", \"G\"],\n",
        "    [\"G\", \"R\", \"G\", \"R\", \"G\", \"R\"],\n",
        "    [\"R\", \"G\", \"R\", \"G\", \"R\", \"G\"],\n",
        "    [\"G\", \"R\", \"G\", \"R\", \"G\", \"R\"],\n",
        "    [\"R\", \"G\", \"R\", \"G\", \"R\", \"G\"],\n",
        "    [\"G\", \"R\", \"G\", \"R\", \"G\", \"R\"],\n",
        "]\n",
        "# Define the start and goal positions\n",
        "start_position = (1, 2)\n",
        "end_position = (2, 3)\n",
        "# Define the movement directions and costs\n",
        "directions = [(1, 0), (-1, 0), (0, 1), (0, -1)]\n",
        "costs = [1, 1, 1, 1]"
      ]
    },
    {
      "attachments": {},
      "cell_type": "markdown",
      "metadata": {},
      "source": [
        "Define the heuristic function. This function should take in the current node and the goal node, and return the Manhattan distance between the two nodes, plus the color penalty"
      ]
    },
    {
      "cell_type": "code",
      "execution_count": 31,
      "metadata": {
        "id": "X0dhW7_LFyue"
      },
      "outputs": [],
      "source": [
        "#Code Block : Write function to design the Transition Model/Successor function. Ideally this would be called while search algorithms are implemented\n",
        "def heuristic(pos,matrix):\n",
        "    #For any arbitrary node “n” the heuristic to reach the Heart h(n) is given by the below:\n",
        "    #Manhattan distance + Color Penalty\n",
        "    #where, Color Penalty = +5 if the node “n” and goal node is in different colored room\n",
        "    #and Color Penalty = -5 if the node “n” and goal node is in same colored room\n",
        "    # Calculate the Manhattan distance\n",
        "    manhattan_distance = abs(pos[0] - end_position[0]) + abs(pos[1] - end_position[1])\n",
        "    # Calculate the color penalty\n",
        "    color_penalty = 5 if matrix[pos[0]][pos[1]] != matrix[end_position[0]][end_position[1]] else -5\n",
        "    # Return the total heuristic value\n",
        "    return manhattan_distance + color_penalty\n"
      ]
    },
    {
      "attachments": {},
      "cell_type": "markdown",
      "metadata": {},
      "source": [
        "Define the cost function. This function should take in the current node, the neighboring node, and the agent (R1 or G1), and return the cost of transitioning from the current node to the neighboring node."
      ]
    },
    {
      "cell_type": "code",
      "execution_count": 13,
      "metadata": {
        "id": "zImA1VT4Fyue"
      },
      "outputs": [],
      "source": [
        "#Code block : Write fucntion to handle goal test (Must handle dynamic inputs). Ideally this would be called while search algorithms are implemented\n",
        "def cost(current, neighbor, agent):\n",
        "    if agent == 'R1':\n",
        "        if neighbor[0] == 'G':\n",
        "            return 10\n",
        "        elif neighbor[0] == 'R':\n",
        "            return -10\n",
        "    elif agent == 'G1':\n",
        "        if neighbor[0] == 'R':\n",
        "            return 10\n",
        "        elif neighbor[0] == 'G':\n",
        "            return -10\n",
        "    return 1"
      ]
    },
    {
      "attachments": {},
      "cell_type": "markdown",
      "metadata": {
        "id": "Dv_aI84TFyue"
      },
      "source": [
        "### 2.\tDefinition of A-Star Search\n",
        "A* is a graph traversal and path search algorithm, which is used in many fields of computer science due to its completeness, optimality, and optimal efficiency. One major practical drawback is its. space complexity, as it stores all generated nodes in memory."
      ]
    },
    {
      "cell_type": "code",
      "execution_count": 55,
      "metadata": {
        "id": "SQWEw6mUFyue"
      },
      "outputs": [],
      "source": [
        "def a_star_search(start, end, agent,matrix,total_iterations):\n",
        "    # Create a set to store the explored nodes\n",
        "    visited_nodes = set()\n",
        "    #total_iterations=0\n",
        "    # Create a dictionary to store the parent of each node, Initial set it to None\n",
        "    parents = {start: None}\n",
        "    # Create a dictionary to store the cost of each node, initially cost is 0 for the start node\n",
        "    costs = {start: 0}\n",
        "    # Create a heap to store the unexplored nodes\n",
        "    heap = []\n",
        "    # Push the start node onto the heap with a cost of 0\n",
        "    #https://realpython.com/python-heapq-module/\n",
        "    heap.append((0, start))\n",
        "    next_cost=0\n",
        "    # Loop until the heap is empty\n",
        "    while heap:\n",
        "        # Pop the node with the lowest cost from the heap\n",
        "        #https://docs.python.org/3/library/heapq.html\n",
        "        total_iterations=total_iterations+1\n",
        "        current = heapq.heappop(heap)[1]\n",
        "        # If the current node has been explored, continue\n",
        "        if current in visited_nodes:\n",
        "            continue\n",
        "        # If the current node is the emd, return the path\n",
        "        #if matrix[current[0]][current[1]] == \"H\":\n",
        "        if current==end:\n",
        "            path = [current]\n",
        "            while current != start:\n",
        "                current = parents[current]\n",
        "                total_iterations=total_iterations+1\n",
        "                if current not in path:\n",
        "                    path.append(current)\n",
        "            print(\"cost: \", next_cost)\n",
        "            print (f\"Total iterations :{total_iterations}\")\n",
        "            return path[::-1]\n",
        "        # Mark the current node as visited\n",
        "        visited_nodes.add(current)\n",
        "        # Expand the current node and look in each possible direction, currently only 4 directions defined\n",
        "        # Left Right Up and down\n",
        "        for i, (dx, dy) in enumerate(directions):\n",
        "            # Calculate the next position\n",
        "            next_pos = (current[0] + dx, current[1] + dy)\n",
        "            total_iterations=total_iterations+1\n",
        "            # Skip the next position if it is outside the grid or is an obstacle\n",
        "            if (\n",
        "                next_pos[0] < 0\n",
        "                or next_pos[0] >= len(matrix)\n",
        "                or next_pos[1] < 0\n",
        "                or next_pos[1] >= len(matrix[0])\n",
        "                or next_pos in visited_nodes\n",
        "            ):\n",
        "                #print(\"Outside the matrix\")\n",
        "                continue                \n",
        "            # Calculate the cost of the next position, every trainsition cost 1 hence add the cost by 1\n",
        "            next_cost = costs[current] + 1\n",
        "            if  matrix[next_pos[0]][next_pos[1]] == \"G\" and agent == \"R1\":\n",
        "                next_cost += 10\n",
        "            elif matrix[next_pos[0]][next_pos[1]] == \"R\" and agent == \"R1\":\n",
        "                next_cost -=10\n",
        "            # If the next position is the goal and the agent is G1, add the penalty for the red room\n",
        "            if matrix[next_pos[0]][next_pos[1]] == \"R\" and agent == \"G1\":\n",
        "                next_cost += 10\n",
        "            elif matrix[next_pos[0]][next_pos[1]] == \"G\" and agent == \"G1\":\n",
        "                next_cost -=10\n",
        "            # If the next position has not been explored or the cost of the next position is lower than the current cost, update the cost and parent of the next position\n",
        "            if next_pos not in costs or next_cost < costs[next_pos]:\n",
        "                costs[next_pos] = next_cost\n",
        "                priority = next_cost + heuristic(next_pos,matrix)\n",
        "                heapq.heappush(heap, (priority, next_pos))\n",
        "                parents[next_pos] = current\n",
        "    # Return None if the end position was not reached\n",
        "    return None\n"
      ]
    },
    {
      "cell_type": "markdown",
      "metadata": {
        "id": "Yby5rPLMFyuf"
      },
      "source": [
        "### DYNAMIC INPUT"
      ]
    },
    {
      "cell_type": "markdown",
      "metadata": {
        "id": "DCCXQ0owFyuf"
      },
      "source": [
        "IMPORTANT : Dynamic Input must be got in this section. Display the possible states to choose from:\n",
        "This is applicable for all the relevent problems as mentioned in the question. "
      ]
    },
    {
      "cell_type": "code",
      "execution_count": 7,
      "metadata": {
        "id": "beAnddJKFyuf"
      },
      "outputs": [
        {
          "name": "stdout",
          "output_type": "stream",
          "text": [
            "cost:  -7\n",
            "Path for R1: [(1, 1), (1, 2), (1, 3), (2, 3)]\n"
          ]
        }
      ],
      "source": [
        "#Code Block : Function & call to get inputs (start/end state)\n",
        "start_position = (1, 1)\n",
        "end_position = (2, 3)\n",
        "path__For_R1 = a_star_search(start_position, end_position, \"R1\",matrix1)\n",
        "print(f\"Path for R1: {path__For_R1}\")"
      ]
    },
    {
      "cell_type": "markdown",
      "metadata": {
        "id": "bqVEUFRoFyuf"
      },
      "source": [
        "### 4.\tCalling the search algorithms"
      ]
    },
    {
      "attachments": {},
      "cell_type": "markdown",
      "metadata": {},
      "source": [
        "### Getting the Start position dynamically from user"
      ]
    },
    {
      "cell_type": "code",
      "execution_count": 62,
      "metadata": {},
      "outputs": [],
      "source": [
        "# Get dynamic start position\n",
        "input_str = input(\"Please Enter the start position : \")\n",
        "try:\n",
        "    list =(str.split(input_str, \",\"))\n",
        "    start_position = tuple(map(int, list))\n",
        "    if(start_position[0]>6  or start_position[0]<0 or start_position[1]>6 or start_position[1]< 0):\n",
        "        raise Exception(\"Invalid Input\")\n",
        "except:\n",
        "        print (\"Invalid Input\")\n",
        "else:\n",
        "    total_iterations=0  \n",
        "    end_position = (3, 2)        \n",
        "    path__For_R1_Scenario_1 = a_star_search(start_position, end_position, \"R1\",matrix1,total_iterations)\n",
        "    print(\"Time complexity for A* Algorithm is O(b power d) . which is inline with the given iterations as above\")\n",
        "    print(\"Space complexity for A* Algorithm is O(b power d) . which is inline with the given iterations as above\")\n",
        "    print(f\"Path for R1 (Scenario 1): {path__For_R1_Scenario_1}\")\n",
        "    end_position = (2, 2) \n",
        "    path__For_R1_Scenario_2 = a_star_search(start_position, end_position, \"R1\",matrix2,total_iterations)\n",
        "    print(\"Time complexity for A* Algorithm is O(b power d) . which is inline with the given iterations as above\")\n",
        "    print(\"Space complexity for A* Algorithm is O(b power d) . which is inline with the given iterations as above\")\n",
        "    print(f\"Path for R1 (Scenario 2): {path__For_R1_Scenario_2}\")\n",
        "    end_position = (3, 2)\n",
        "    path__For_G1_Scenario_1 = a_star_search(start_position, end_position, \"G1\",matrix1,total_iterations)\n",
        "    print(\"Time complexity for A* Algorithm is O(b power d) . which is inline with the given iterations as above\")\n",
        "    print(\"Space complexity for A* Algorithm is O(b power d) . which is inline with the given iterations as above\")\n",
        "    print(f\"Path for G1 (Scenario 1): {path__For_G1_Scenario_1}\")\n",
        "    end_position = (2, 2)\n",
        "    path__For_G1_Scenario_2 = a_star_search(start_position, end_position, \"G1\",matrix2,total_iterations)\n",
        "    print(\"Time complexity for A* Algorithm is O(b power d) . which is inline with the given iterations as above\")\n",
        "    print(\"Space complexity for A* Algorithm is O(b power d) . which is inline with the given iterations as above\")\n",
        "    print(f\"Path for G1 (Scenario 2): {path__For_G1_Scenario_2}\")"
      ]
    },
    {
      "cell_type": "code",
      "execution_count": 61,
      "metadata": {
        "id": "y9CAb9j8Fyuf"
      },
      "outputs": [
        {
          "name": "stdout",
          "output_type": "stream",
          "text": [
            "cost:  35\n",
            "Total iterations :106\n",
            "Time complexity for A* Algorithm is O(b power d) . which is inline with the given iterations as above\n",
            "Space complexity for A* Algorithm is O(b power d) . which is inline with the given iterations as above\n",
            "Path for R1 (Scenario 1): [(0, 0), (0, 1), (0, 2), (1, 2), (2, 2), (3, 2)]\n",
            "cost:  24\n",
            "Total iterations :100\n",
            "Time complexity for A* Algorithm is O(b power d) . which is inline with the given iterations as above\n",
            "Space complexity for A* Algorithm is O(b power d) . which is inline with the given iterations as above\n",
            "Path for R1 (Scenario 1): [(0, 1), (0, 2), (1, 2), (2, 2), (3, 2)]\n",
            "cost:  17\n",
            "Total iterations :64\n",
            "Time complexity for A* Algorithm is O(b power d) . which is inline with the given iterations as above\n",
            "Space complexity for A* Algorithm is O(b power d) . which is inline with the given iterations as above\n",
            "Path for R1 (Scenario 1): [(0, 2), (1, 2), (2, 2), (3, 2)]\n",
            "cost:  -16\n",
            "Total iterations :25\n",
            "Time complexity for A* Algorithm is O(b power d) . which is inline with the given iterations as above\n",
            "Space complexity for A* Algorithm is O(b power d) . which is inline with the given iterations as above\n",
            "Path for R1 (Scenario 1): [(0, 3), (1, 3), (2, 3), (2, 2), (3, 2)]\n",
            "cost:  -5\n",
            "Total iterations :31\n",
            "Time complexity for A* Algorithm is O(b power d) . which is inline with the given iterations as above\n",
            "Space complexity for A* Algorithm is O(b power d) . which is inline with the given iterations as above\n",
            "Path for R1 (Scenario 1): [(0, 4), (0, 3), (1, 3), (2, 3), (2, 2), (3, 2)]\n",
            "cost:  -14\n",
            "Total iterations :37\n",
            "Time complexity for A* Algorithm is O(b power d) . which is inline with the given iterations as above\n",
            "Space complexity for A* Algorithm is O(b power d) . which is inline with the given iterations as above\n",
            "Path for R1 (Scenario 1): [(0, 5), (0, 4), (0, 3), (1, 3), (2, 3), (2, 2), (3, 2)]\n",
            "cost:  24\n",
            "Total iterations :105\n",
            "Time complexity for A* Algorithm is O(b power d) . which is inline with the given iterations as above\n",
            "Space complexity for A* Algorithm is O(b power d) . which is inline with the given iterations as above\n",
            "Path for R1 (Scenario 1): [(1, 0), (1, 1), (1, 2), (2, 2), (3, 2)]\n",
            "cost:  13\n",
            "Total iterations :89\n",
            "Time complexity for A* Algorithm is O(b power d) . which is inline with the given iterations as above\n",
            "Space complexity for A* Algorithm is O(b power d) . which is inline with the given iterations as above\n",
            "Path for R1 (Scenario 1): [(2, 0), (2, 1), (2, 2), (3, 2)]\n",
            "cost:  2\n",
            "Total iterations :13\n",
            "Time complexity for A* Algorithm is O(b power d) . which is inline with the given iterations as above\n",
            "Space complexity for A* Algorithm is O(b power d) . which is inline with the given iterations as above\n",
            "Path for R1 (Scenario 1): [(3, 0), (3, 1), (3, 2)]\n",
            "cost:  13\n",
            "Total iterations :19\n",
            "Time complexity for A* Algorithm is O(b power d) . which is inline with the given iterations as above\n",
            "Space complexity for A* Algorithm is O(b power d) . which is inline with the given iterations as above\n",
            "Path for R1 (Scenario 1): [(4, 0), (3, 0), (3, 1), (3, 2)]\n",
            "cost:  4\n",
            "Total iterations :25\n",
            "Time complexity for A* Algorithm is O(b power d) . which is inline with the given iterations as above\n",
            "Space complexity for A* Algorithm is O(b power d) . which is inline with the given iterations as above\n",
            "Path for R1 (Scenario 1): [(5, 0), (4, 0), (3, 0), (3, 1), (3, 2)]\n",
            "cost:  15\n",
            "Total iterations :61\n",
            "Time complexity for A* Algorithm is O(b power d) . which is inline with the given iterations as above\n",
            "Space complexity for A* Algorithm is O(b power d) . which is inline with the given iterations as above\n",
            "Path for R1 (Scenario 2): [(0, 0), (0, 1), (0, 2), (1, 2), (2, 2), (3, 2)]\n",
            "cost:  -80\n",
            "Total iterations :203\n",
            "Time complexity for A* Algorithm is O(b power d) . which is inline with the given iterations as above\n",
            "Space complexity for A* Algorithm is O(b power d) . which is inline with the given iterations as above\n",
            "Path for G1 (Scenario 1): [(0, 0), (0, 1), (0, 2), (1, 2), (1, 1), (2, 1), (2, 0), (3, 0), (3, 1), (3, 2), (3, 3), (3, 4), (2, 4), (1, 4), (1, 5), (0, 5), (0, 4), (0, 3), (1, 3), (2, 3), (2, 2)]\n",
            "cost:  4\n",
            "Total iterations :45\n",
            "Time complexity for A* Algorithm is O(b power d) . which is inline with the given iterations as above\n",
            "Space complexity for A* Algorithm is O(b power d) . which is inline with the given iterations as above\n",
            "Path for G1 (Scenario 2): [(0, 0), (0, 1), (0, 2), (1, 2), (2, 2)]\n"
          ]
        }
      ],
      "source": [
        "#Invoke algorithm 1 (Should Print the solution, path, cost etc., (As mentioned in the problem))\n",
        "\n",
        "m=6 #length of matrix\n",
        "n=6 #length of matrix\n",
        "end_position = (3, 2)\n",
        "for i in range(m) :\n",
        "        for j in range(n) :\n",
        "            if i==0 or j==0: \n",
        "                start_position=(i,j)\n",
        "                total_iterations=0          \n",
        "                path__For_R1_Scenario_1 = a_star_search(start_position, end_position, \"R1\",matrix1,total_iterations)\n",
        "                print(\"Time complexity for A* Algorithm is O(b power d) . which is inline with the given iterations as above\")\n",
        "                print(\"Space complexity for A* Algorithm is O(b power d) . which is inline with the given iterations as above\")\n",
        "                print(f\"Path for R1 (Scenario 1): {path__For_R1_Scenario_1}\")\n",
        "\n",
        "start_position = (0, 0)\n",
        "end_position = (3, 2)\n",
        "path__For_R1_Scenario_2 = a_star_search(start_position, end_position, \"R1\",matrix2,total_iterations)\n",
        "print(\"Time complexity for A* Algorithm is O(b power d) . which is inline with the given iterations as above\")\n",
        "print(\"Space complexity for A* Algorithm is O(b power d) . which is inline with the given iterations as above\")\n",
        "print(f\"Path for R1 (Scenario 2): {path__For_R1_Scenario_2}\")\n",
        "\n",
        "start_position = (0, 0)\n",
        "end_position = (2, 2)\n",
        "path__For_G1_Scenario_1 = a_star_search(start_position, end_position, \"G1\",matrix1,total_iterations)\n",
        "print(\"Time complexity for A* Algorithm is O(b power d) . which is inline with the given iterations as above\")\n",
        "print(\"Space complexity for A* Algorithm is O(b power d) . which is inline with the given iterations as above\")\n",
        "print(f\"Path for G1 (Scenario 1): {path__For_G1_Scenario_1}\")\n",
        "\n",
        "start_position = (0, 0)\n",
        "end_position = (2, 2)\n",
        "path__For_G1_Scenario_2 = a_star_search(start_position, end_position, \"G1\",matrix2,total_iterations)\n",
        "print(\"Time complexity for A* Algorithm is O(b power d) . which is inline with the given iterations as above\")\n",
        "print(\"Space complexity for A* Algorithm is O(b power d) . which is inline with the given iterations as above\")\n",
        "print(f\"Path for G1 (Scenario 2): {path__For_G1_Scenario_2}\")"
      ]
    },
    {
      "cell_type": "markdown",
      "metadata": {
        "id": "pPN1mgOSFyug"
      },
      "source": [
        "### 5.\tComparitive Analysis"
      ]
    },
    {
      "attachments": {},
      "cell_type": "markdown",
      "metadata": {},
      "source": [
        "To calculate the space complexity of the A* search algorithm, we can measure the maximum size of the open list, which contains the nodes that have been discovered but not yet expanded. This is done by keeping track of the length of the open list at each step of the search and taking the maximum value.\n",
        "To calculate the time complexity of the A* search algorithm, we can measure the number of nodes that are expanded. This can be done by keeping a counter that is incremented every time a node is expanded.\n",
        "To calculate the time and space complexity for the informed search, we can simply run the search multiple times with different input sizes and measure the time and space complexity using the above methods."
      ]
    },
    {
      "cell_type": "code",
      "execution_count": 47,
      "metadata": {
        "id": "EwBYRVQHFyug"
      },
      "outputs": [
        {
          "name": "stdout",
          "output_type": "stream",
          "text": [
            "Total iterations :0\n"
          ]
        }
      ],
      "source": [
        "#Code Block : Print the Time & Space complexity of algorithm 1 \n",
        "print (f\"Total iterations :{total_iterations}\")"
      ]
    },
    {
      "attachments": {},
      "cell_type": "markdown",
      "metadata": {},
      "source": [
        "\n",
        "1) This implementation of the a_star search function takes in the start and goal positions, as well as the agent name ('R1' or 'G1') as input and returns the optimal path from the start to the goal as output.\n",
        "\n",
        "2) The space complexity of this implementation is O(b^d), where b is the branching factor of the search space (i.e. the average number of children per node) and d is the depth of the search space. The space complexity is determined by the size of the heap, which stores the unexplored nodes, and the size of the dictionaries, which store the costs and parents of each node.\n",
        "\n",
        "3) The time complexity of this implementation is also O(b^d), where b is the branching factor of the search space and d is the depth of the optimal solution (i.e. the shortest path from the start to the goal). The time complexity is determined by the number of nodes that are expanded and the time required to expand each node.\n",
        "\n",
        "To interpret the results, you can compare the length of the paths returned by the A* search function for each agent and the cost of each path. For example, if the path for R1 is shorter and has a lower cost than the path for G1, this suggests that R1 performs better in this environment. On the other hand, if the path for G1 is shorter and has a lower cost than the path for R1, this suggests that G1 performs better in this environment.\n",
        "\n",
        "You can also compare the space and time complexity of the A* search function for each agent to see which one requires less memory and time to find the optimal path. A lower space and time complexity generally indicates a more efficient search algorithm."
      ]
    },
    {
      "cell_type": "markdown",
      "metadata": {
        "id": "8XbDn1pgFyug"
      },
      "source": [
        "Comparison : _______________________________________________\n",
        "\n",
        "________________________________________________________\n",
        "\n",
        "_________________________________________________________"
      ]
    }
  ],
  "metadata": {
    "colab": {
      "provenance": []
    },
    "kernelspec": {
      "display_name": "Python 3.10.5 64-bit",
      "language": "python",
      "name": "python3"
    },
    "language_info": {
      "codemirror_mode": {
        "name": "ipython",
        "version": 3
      },
      "file_extension": ".py",
      "mimetype": "text/x-python",
      "name": "python",
      "nbconvert_exporter": "python",
      "pygments_lexer": "ipython3",
      "version": "3.10.5"
    },
    "vscode": {
      "interpreter": {
        "hash": "79c792ad3c73468cd23fa5e462a9995a55a891b4cc8b43152f30c7a140787c39"
      }
    }
  },
  "nbformat": 4,
  "nbformat_minor": 0
}
